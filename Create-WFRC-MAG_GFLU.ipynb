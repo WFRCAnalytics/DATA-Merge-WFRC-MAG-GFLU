{
 "cells": [
  {
   "cell_type": "markdown",
   "metadata": {},
   "source": [
    "# Create-WFRC-MAG_GFLU\n",
    "\n",
    "This notebook reads in the WFRC & MAG GFLU layers from AGOL, standardizes them, and merges them together into one dataset"
   ]
  },
  {
   "cell_type": "code",
   "execution_count": 1,
   "metadata": {},
   "outputs": [],
   "source": [
    "import arcpy\n",
    "from arcpy import env\n",
    "import os\n",
    "import numpy as np\n",
    "from arcgis import GIS\n",
    "from arcgis.features import GeoAccessor\n",
    "from arcgis.features import GeoSeriesAccessor\n",
    "import pandas as pd\n",
    "\n",
    "arcpy.env.overwriteOutput = True\n",
    "arcpy.env.parallelProcessingFactor = \"90%\"\n",
    "\n",
    "# show all columns\n",
    "pd.options.display.max_columns = None\n",
    "\n",
    "# pd.pivot_table(df, values='a', index='b', columns='c', aggfunc='sum', fill_value=0)\n",
    "# pd.DataFrame.spatial.from_featureclass(???)  \n",
    "# df.spatial.to_featureclass(location=???,sanitize_columns=False)  \n",
    "\n",
    "# gsa = arcgis.features.GeoSeriesAccessor(df['SHAPE'])  \n",
    "# df['AREA'] = gsa.area  # KNOW YOUR UNITS"
   ]
  },
  {
   "cell_type": "code",
   "execution_count": 2,
   "metadata": {},
   "outputs": [],
   "source": [
    "# fill NA values in Spatially enabled dataframes (ignores SHAPE column)\n",
    "def fill_na_sedf(df_with_shape_column, fill_value=0):\n",
    "    if 'SHAPE' in list(df_with_shape_column.columns):\n",
    "        df = df_with_shape_column.copy()\n",
    "        shape_column = df['SHAPE'].copy()\n",
    "        del df['SHAPE']\n",
    "        return df.fillna(fill_value).merge(shape_column,left_index=True, right_index=True, how='inner')\n",
    "    else:\n",
    "        raise Exception(\"Dataframe does not include 'SHAPE' column\")"
   ]
  },
  {
   "cell_type": "code",
   "execution_count": 3,
   "metadata": {},
   "outputs": [],
   "source": [
    "outputs = ['.\\\\Outputs', \"scratch.gdb\", 'Generalized_Future_Land_Use_2025.gdb']\n",
    "\n",
    "if not os.path.exists(outputs[0]):\n",
    "    os.makedirs(outputs[0])\n",
    "\n",
    "gdb = os.path.join(outputs[0], outputs[1])\n",
    "gdb2 = os.path.join(outputs[0], outputs[2])\n",
    "\n",
    "if not arcpy.Exists(gdb):\n",
    "    arcpy.CreateFileGDB_management(outputs[0], outputs[1])\n",
    "\n",
    "if not arcpy.Exists(gdb2):\n",
    "    arcpy.CreateFileGDB_management(outputs[0], outputs[2])"
   ]
  },
  {
   "cell_type": "code",
   "execution_count": 4,
   "metadata": {},
   "outputs": [],
   "source": [
    "wfrc_gflu = 'https://services1.arcgis.com/taguadKoI1XFwivx/arcgis/rest/services/Generalized_Future_Land_Use_%282025%29/FeatureServer/0'\n",
    "mag_gflu = 'https://services2.arcgis.com/EiGeaCDLpVDPqdJ5/arcgis/rest/services/General_Plan_Land_Use_2023/FeatureServer/0'\n",
    "wfrc_gflu_id = 'ae7dc08d0ea048eba4f9c1687969d426'\n",
    "mag_gflu_id = '00c0c95b5d864904825073963bc5967b'"
   ]
  },
  {
   "cell_type": "code",
   "execution_count": 5,
   "metadata": {},
   "outputs": [],
   "source": [
    "# Connect to ArcGIS Online or Enterprise\n",
    "gis = GIS(\"home\")\n",
    "\n",
    "# Access a feature layer using ID\n",
    "def read_from_web(id):\n",
    "    item = gis.content.get(id)\n",
    "    feature_layer = item.layers[0]\n",
    "    sdf = pd.DataFrame.spatial.from_layer(feature_layer)\n",
    "    return sdf"
   ]
  },
  {
   "cell_type": "markdown",
   "metadata": {},
   "source": [
    "# Data Exploration"
   ]
  },
  {
   "cell_type": "code",
   "execution_count": 6,
   "metadata": {},
   "outputs": [],
   "source": [
    "# wfrc_gflu_sdf = read_from_web(wfrc_gflu_id)\n",
    "# wfrc_gflu_sdf.head(2)"
   ]
  },
  {
   "cell_type": "code",
   "execution_count": 7,
   "metadata": {},
   "outputs": [],
   "source": [
    "# wfrc_gflu_sdf['GenLUType'].value_counts()"
   ]
  },
  {
   "cell_type": "code",
   "execution_count": 8,
   "metadata": {},
   "outputs": [],
   "source": [
    "# mag_gflu_sdf = read_from_web(mag_gflu_id)\n",
    "# mag_gflu_sdf.head(2)"
   ]
  },
  {
   "cell_type": "code",
   "execution_count": 9,
   "metadata": {},
   "outputs": [],
   "source": [
    "# mag_gflu_sdf['GenLUType'].value_counts()"
   ]
  },
  {
   "cell_type": "markdown",
   "metadata": {},
   "source": [
    "# Processing"
   ]
  },
  {
   "cell_type": "code",
   "execution_count": 10,
   "metadata": {},
   "outputs": [],
   "source": [
    "# read in feature layers from AGOL\n",
    "wfrc_gflu_lyr = arcpy.MakeFeatureLayer_management(wfrc_gflu, 'wfrc_gflu_lyr')\n",
    "mag_gflu_lyr = arcpy.MakeFeatureLayer_management(mag_gflu, 'mag_gflu_lyr')"
   ]
  },
  {
   "cell_type": "code",
   "execution_count": 11,
   "metadata": {},
   "outputs": [],
   "source": [
    "# dissolve feature layers\n",
    "wfrc_gflu_dissolved = arcpy.management.Dissolve(wfrc_gflu_lyr, os.path.join(gdb, 'wfrc_gflu_dissolved'), ['CityLUType','City','County','GenLUType', 'MaxDUA', 'PlanSource', 'DataSource', 'AnnexArea'], \"\", \"MULTI_PART\")\n",
    "mag_gflu_dissolved = arcpy.management.Dissolve(mag_gflu_lyr, os.path.join(gdb, 'mag_gflu_dissolved'), ['CityLUType','City','County','GenLUType', 'MaxDUA', 'PlanSource', 'DataSource'], \"\", \"MULTI_PART\")\n",
    "\n",
    "# merge wfrc and mag\n",
    "wfrc_mag_gflu_dissolved = arcpy.management.Merge([wfrc_gflu_dissolved, mag_gflu_dissolved], output=os.path.join(gdb, 'wfrc_mag_gflu_dissolved'))"
   ]
  },
  {
   "cell_type": "code",
   "execution_count": 15,
   "metadata": {},
   "outputs": [],
   "source": [
    "# read the merged features into a dataframe\n",
    "wfrc_mag_gflu_dissolved_sdf = pd.DataFrame.spatial.from_featureclass(wfrc_mag_gflu_dissolved[0])"
   ]
  },
  {
   "cell_type": "code",
   "execution_count": 16,
   "metadata": {},
   "outputs": [],
   "source": [
    "# look up table  for general land use types\n",
    "lu = {\n",
    "'Residential SF':'Residential Single-Family',\n",
    "'Residential - Low Density':'Residential Single-Family', # MAG\n",
    "\n",
    "'Residential MF':'Residential Multi-Family',\n",
    "'Residential - High Density':'Residential Multi-Family', # MAG\n",
    "\n",
    "'Any Residential':'Any Residential',\n",
    "'Residential - Medium Density':'Any Residential', # MAG\n",
    "\n",
    "'Retail':'Retail',\n",
    "\n",
    "'Office':'Office',\n",
    "\n",
    "'Industrial':'Industrial',\n",
    "\n",
    "'Any Commercial':'Mixed Commercial',\n",
    "'Industrial/Office':'Mixed Commercial',\n",
    "'Industrial/Retail':'Mixed Commercial',\n",
    "'Retail/Office':'Mixed Commercial',\n",
    "'Commercial':'Mixed Commercial',\n",
    "'Business Park':'Mixed Commercial', # MAG\n",
    "\n",
    "'Any Development':'Mixed Use',\n",
    "'Industrial/Mixed Use MF':'Mixed Use',\n",
    "'Mixed Use':'Mixed Use',\n",
    "'Mixed Use MF':'Mixed Use',\n",
    "'Mixed Use SF':'Mixed Use',\n",
    "'Residential MF/Office':'Mixed Use',\n",
    "'Residential SF/Retail':'Mixed Use',\n",
    "'Residential/Office':'Mixed Use',\n",
    "'Residential/Retail':'Mixed Use',\n",
    "'Mixed Use - High Density':'Mixed Use', # MAG\n",
    "\n",
    "'Government/Education':'Government / Education',\n",
    "'Public':'Government / Education', # MAG\n",
    "\n",
    "'NoBuild':'Parks / Protected Lands / Agriculture',\n",
    "'Open Space':'Parks / Protected Lands / Agriculture', # MAG\n",
    "'Residential - Agriculture':'Parks / Protected Lands / Agriculture', # MAG\n",
    "}\n"
   ]
  },
  {
   "cell_type": "code",
   "execution_count": 17,
   "metadata": {},
   "outputs": [],
   "source": [
    "# reclassify to common categories\n",
    "wfrc_mag_gflu_dissolved_sdf['GenLUType2'] = wfrc_mag_gflu_dissolved_sdf['GenLUType'].map(lu)"
   ]
  },
  {
   "cell_type": "code",
   "execution_count": 18,
   "metadata": {},
   "outputs": [
    {
     "data": {
      "text/plain": [
       "'e:\\\\Tasks\\\\Create-WFRC-MAG_GFLU\\\\Outputs\\\\Generalized_Future_Land_Use_2025.gdb\\\\Generalized_Future_Land_Use_2025'"
      ]
     },
     "execution_count": 18,
     "metadata": {},
     "output_type": "execute_result"
    }
   ],
   "source": [
    "# export features\n",
    "wfrc_mag_gflu_dissolved_sdf.spatial.to_featureclass(location=os.path.join(gdb2, 'Generalized_Future_Land_Use_2025'),sanitize_columns=False)  "
   ]
  }
 ],
 "metadata": {
  "kernelspec": {
   "display_name": "arcgispro-py3",
   "language": "python",
   "name": "python3"
  },
  "language_info": {
   "codemirror_mode": {
    "name": "ipython",
    "version": 3
   },
   "file_extension": ".py",
   "mimetype": "text/x-python",
   "name": "python",
   "nbconvert_exporter": "python",
   "pygments_lexer": "ipython3",
   "version": "3.11.10"
  },
  "orig_nbformat": 4
 },
 "nbformat": 4,
 "nbformat_minor": 2
}
